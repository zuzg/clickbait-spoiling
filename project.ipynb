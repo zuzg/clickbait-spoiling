{
 "cells": [
  {
   "attachments": {},
   "cell_type": "markdown",
   "metadata": {},
   "source": [
    "# Clickbait spoiling 🖱️\n",
    "Task description: https://pan.webis.de/semeval23/pan23-web/clickbait-challenge.html (task 2)\n",
    "\n",
    "Data: https://zenodo.org/record/6362726#.YsbdSTVBzrk"
   ]
  },
  {
   "cell_type": "code",
   "execution_count": 1,
   "metadata": {},
   "outputs": [],
   "source": [
    "from transformers import pipeline\n",
    "\n",
    "from src.data import read_data"
   ]
  },
  {
   "attachments": {},
   "cell_type": "markdown",
   "metadata": {},
   "source": [
    "## Data preparation"
   ]
  },
  {
   "cell_type": "code",
   "execution_count": 2,
   "metadata": {},
   "outputs": [],
   "source": [
    "train = read_data('data/train.jsonl')"
   ]
  },
  {
   "cell_type": "code",
   "execution_count": 3,
   "metadata": {},
   "outputs": [
    {
     "data": {
      "text/html": [
       "<div>\n",
       "<style scoped>\n",
       "    .dataframe tbody tr th:only-of-type {\n",
       "        vertical-align: middle;\n",
       "    }\n",
       "\n",
       "    .dataframe tbody tr th {\n",
       "        vertical-align: top;\n",
       "    }\n",
       "\n",
       "    .dataframe thead th {\n",
       "        text-align: right;\n",
       "    }\n",
       "</style>\n",
       "<table border=\"1\" class=\"dataframe\">\n",
       "  <thead>\n",
       "    <tr style=\"text-align: right;\">\n",
       "      <th></th>\n",
       "      <th>id</th>\n",
       "      <th>title</th>\n",
       "      <th>question</th>\n",
       "      <th>context</th>\n",
       "      <th>spoiler</th>\n",
       "    </tr>\n",
       "  </thead>\n",
       "  <tbody>\n",
       "    <tr>\n",
       "      <th>0</th>\n",
       "      <td>0af11f6b-c889-4520-9372-66ba25cb7657</td>\n",
       "      <td>Wes Welker Wanted Dinner With Tom Brady, But P...</td>\n",
       "      <td>Wes Welker Wanted Dinner With Tom Brady, But P...</td>\n",
       "      <td>Wes Welker Wanted Dinner With Tom Brady, But P...</td>\n",
       "      <td>[how about that morning we go throw?]</td>\n",
       "    </tr>\n",
       "    <tr>\n",
       "      <th>1</th>\n",
       "      <td>b1a1f63d-8853-4a11-89e8-6b2952a393ec</td>\n",
       "      <td>Hole In Ozone Layer Expected To Make Full Reco...</td>\n",
       "      <td>NASA sets date for full recovery of ozone hole</td>\n",
       "      <td>Hole In Ozone Layer Expected To Make Full Reco...</td>\n",
       "      <td>[2070]</td>\n",
       "    </tr>\n",
       "    <tr>\n",
       "      <th>2</th>\n",
       "      <td>008b7b19-0445-4e16-8f9e-075b73f80ca4</td>\n",
       "      <td>Intellectual Stimulation Trumps Money For Empl...</td>\n",
       "      <td>This is what makes employees happy -- and it's...</td>\n",
       "      <td>Intellectual Stimulation Trumps Money For Empl...</td>\n",
       "      <td>[intellectual stimulation]</td>\n",
       "    </tr>\n",
       "    <tr>\n",
       "      <th>3</th>\n",
       "      <td>31ecf93c-3e21-4c80-949b-aa549a046b93</td>\n",
       "      <td>‘Follow your passion’ is wrong, here are 7 hab...</td>\n",
       "      <td>Passion is overrated — 7 work habits you need ...</td>\n",
       "      <td>‘Follow your passion’ is wrong, here are 7 hab...</td>\n",
       "      <td>[Purpose connects us to something bigger and i...</td>\n",
       "    </tr>\n",
       "    <tr>\n",
       "      <th>4</th>\n",
       "      <td>31b108a3-c828-421a-a4b9-cf651e9ac859</td>\n",
       "      <td>Revealed: The perfect way to cook rice so that...</td>\n",
       "      <td>The perfect way to cook rice so that it's perf...</td>\n",
       "      <td>Revealed: The perfect way to cook rice so that...</td>\n",
       "      <td>[in a rice cooker]</td>\n",
       "    </tr>\n",
       "  </tbody>\n",
       "</table>\n",
       "</div>"
      ],
      "text/plain": [
       "                                     id  \\\n",
       "0  0af11f6b-c889-4520-9372-66ba25cb7657   \n",
       "1  b1a1f63d-8853-4a11-89e8-6b2952a393ec   \n",
       "2  008b7b19-0445-4e16-8f9e-075b73f80ca4   \n",
       "3  31ecf93c-3e21-4c80-949b-aa549a046b93   \n",
       "4  31b108a3-c828-421a-a4b9-cf651e9ac859   \n",
       "\n",
       "                                               title  \\\n",
       "0  Wes Welker Wanted Dinner With Tom Brady, But P...   \n",
       "1  Hole In Ozone Layer Expected To Make Full Reco...   \n",
       "2  Intellectual Stimulation Trumps Money For Empl...   \n",
       "3  ‘Follow your passion’ is wrong, here are 7 hab...   \n",
       "4  Revealed: The perfect way to cook rice so that...   \n",
       "\n",
       "                                            question  \\\n",
       "0  Wes Welker Wanted Dinner With Tom Brady, But P...   \n",
       "1     NASA sets date for full recovery of ozone hole   \n",
       "2  This is what makes employees happy -- and it's...   \n",
       "3  Passion is overrated — 7 work habits you need ...   \n",
       "4  The perfect way to cook rice so that it's perf...   \n",
       "\n",
       "                                             context  \\\n",
       "0  Wes Welker Wanted Dinner With Tom Brady, But P...   \n",
       "1  Hole In Ozone Layer Expected To Make Full Reco...   \n",
       "2  Intellectual Stimulation Trumps Money For Empl...   \n",
       "3  ‘Follow your passion’ is wrong, here are 7 hab...   \n",
       "4  Revealed: The perfect way to cook rice so that...   \n",
       "\n",
       "                                             spoiler  \n",
       "0              [how about that morning we go throw?]  \n",
       "1                                             [2070]  \n",
       "2                         [intellectual stimulation]  \n",
       "3  [Purpose connects us to something bigger and i...  \n",
       "4                                 [in a rice cooker]  "
      ]
     },
     "execution_count": 3,
     "metadata": {},
     "output_type": "execute_result"
    }
   ],
   "source": [
    "train.head()"
   ]
  },
  {
   "cell_type": "code",
   "execution_count": 4,
   "metadata": {},
   "outputs": [
    {
     "name": "stdout",
     "output_type": "stream",
     "text": [
      "<class 'pandas.core.frame.DataFrame'>\n",
      "RangeIndex: 3200 entries, 0 to 3199\n",
      "Data columns (total 5 columns):\n",
      " #   Column    Non-Null Count  Dtype \n",
      "---  ------    --------------  ----- \n",
      " 0   id        3200 non-null   object\n",
      " 1   title     3200 non-null   object\n",
      " 2   question  3200 non-null   object\n",
      " 3   context   3200 non-null   object\n",
      " 4   spoiler   3200 non-null   object\n",
      "dtypes: object(5)\n",
      "memory usage: 125.1+ KB\n"
     ]
    }
   ],
   "source": [
    "train.info()"
   ]
  },
  {
   "attachments": {},
   "cell_type": "markdown",
   "metadata": {},
   "source": [
    "## Question Answering model\n",
    "Firstly, we will verify existing approach - question answering pipeline with roberta-base-squad2 model."
   ]
  },
  {
   "cell_type": "code",
   "execution_count": 25,
   "metadata": {},
   "outputs": [
    {
     "data": {
      "application/vnd.jupyter.widget-view+json": {
       "model_id": "5cddba47a9fd44179db72b85aa4c268c",
       "version_major": 2,
       "version_minor": 0
      },
      "text/plain": [
       "Downloading:   0%|          | 0.00/11.0k [00:00<?, ?B/s]"
      ]
     },
     "metadata": {},
     "output_type": "display_data"
    }
   ],
   "source": [
    "qa_pipeline = pipeline(model=\"deepset/roberta-base-squad2\")"
   ]
  },
  {
   "attachments": {},
   "cell_type": "markdown",
   "metadata": {},
   "source": [
    "### Verify sample spoilers and assess accuracy\n",
    "For now, simply check if real and generated spoiler intersect with at least one word."
   ]
  },
  {
   "cell_type": "code",
   "execution_count": 34,
   "metadata": {},
   "outputs": [
    {
     "name": "stdout",
     "output_type": "stream",
     "text": [
      "correct | generated spoiler | true spoiler\n",
      "1 let’s go throw ['how about that morning we go throw?']\n",
      "1 2070 ['2070']\n",
      "0 money ['intellectual stimulation']\n",
      "0 Adopting a peripheral perspective ['Purpose connects us to something bigger and in doing so makes us right sized', 'be ruthless with your \"No’s.\"', 'Practice means greatness is doable ... one tiny step after another', 'planning of the SMART goal and number-crunching variety', 'Objectivity — the ability to see the world as it truly is']\n",
      "0 I follow these steps ['in a rice cooker']\n",
      "1 you'll have to buy new ones [\"Apple says that if AirPods are lost or stolen, you'll have to buy new ones, just like any other Apple product.\"]\n",
      "0 Is he constantly hungover ['\"The more good games I had in them, the more I got used to them.']\n",
      "1 -10 degrees Celsius,\" said Hänninen. ['rainbow colours in the sky and a halo spanning 360 degrees']\n",
      "0 5/5 say yes ['Red wine is clearly the drink of choice if you are doing light to moderate drinking for your health, and daily consumption just before or with the evening meal may be the most protective pattern,\" O’Keefe says']\n",
      "1 Sriracha Hot Chili Sauce ['Sriracha Hot Chili Sauce', \"Frank's RedHot Original Sauce\", 'Cholula Chili Garlic', 'Louisiana Hot Sauce', 'CaJohns Bourbon Infused Chipotle-Habañero Sauce']\n",
      "0 24 million ['750 percent']\n",
      "0 Jenelle Evans ['boy']\n",
      "0 30 percent off everything ['promotional code']\n",
      "0 Aug. 17... -  ['says it will spend $20 million to expand bathroom options at all of its U.S. stores']\n",
      "1 Is it safe [\"Although Simmons' first blow shattered the glass, he was unable to structurally compromise the underlying layers even after he let loose on it dozens of times.\"]\n",
      "Accuracy: 0.4\n"
     ]
    }
   ],
   "source": [
    "score = []\n",
    "print(\"correct | generated spoiler | true spoiler\")\n",
    "for i, question, context, spoiler in zip(range(15), train.question, train.context, train.spoiler):\n",
    "    answer = qa_pipeline(\n",
    "        question=question,\n",
    "        context=context,\n",
    "    )\n",
    "    if any(word in spoiler[0].split() for word in answer['answer'].split()):\n",
    "        score.append(1)\n",
    "    else:\n",
    "        score.append(0)\n",
    "    print(score[i], answer['answer'], spoiler)\n",
    "\n",
    "print(f\"\\nAccuracy: {sum(score)/len(score)}\")"
   ]
  },
  {
   "attachments": {},
   "cell_type": "markdown",
   "metadata": {},
   "source": [
    "There is definitely room for improvement, some generated spoiler are perfectly correct, but some are totally missed."
   ]
  },
  {
   "attachments": {},
   "cell_type": "markdown",
   "metadata": {},
   "source": [
    "## Our approach\n",
    "Retraining roberta?"
   ]
  },
  {
   "cell_type": "code",
   "execution_count": null,
   "metadata": {},
   "outputs": [],
   "source": []
  }
 ],
 "metadata": {
  "kernelspec": {
   "display_name": "dl",
   "language": "python",
   "name": "python3"
  },
  "language_info": {
   "codemirror_mode": {
    "name": "ipython",
    "version": 3
   },
   "file_extension": ".py",
   "mimetype": "text/x-python",
   "name": "python",
   "nbconvert_exporter": "python",
   "pygments_lexer": "ipython3",
   "version": "3.10.8"
  },
  "orig_nbformat": 4
 },
 "nbformat": 4,
 "nbformat_minor": 2
}
